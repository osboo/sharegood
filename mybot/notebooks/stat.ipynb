{
 "cells": [
  {
   "cell_type": "code",
   "execution_count": 2,
   "id": "e2d2fbbc-9fab-47e7-8d74-1c30c0ae63bc",
   "metadata": {},
   "outputs": [],
   "source": [
    "import pandas as pd"
   ]
  },
  {
   "cell_type": "code",
   "execution_count": 4,
   "id": "0600cc49-1171-4f1c-80f2-bff6b03443e3",
   "metadata": {},
   "outputs": [],
   "source": [
    "df = pd.read_csv('tests/test-data/dump1/mileage.csv')"
   ]
  },
  {
   "cell_type": "code",
   "execution_count": 5,
   "id": "469a279b-d0a6-4c25-a758-76583b244ac0",
   "metadata": {},
   "outputs": [
    {
     "data": {
      "text/html": [
       "<div>\n",
       "<style scoped>\n",
       "    .dataframe tbody tr th:only-of-type {\n",
       "        vertical-align: middle;\n",
       "    }\n",
       "\n",
       "    .dataframe tbody tr th {\n",
       "        vertical-align: top;\n",
       "    }\n",
       "\n",
       "    .dataframe thead th {\n",
       "        text-align: right;\n",
       "    }\n",
       "</style>\n",
       "<table border=\"1\" class=\"dataframe\">\n",
       "  <thead>\n",
       "    <tr style=\"text-align: right;\">\n",
       "      <th></th>\n",
       "      <th>PartitionKey</th>\n",
       "      <th>RowKey</th>\n",
       "      <th>Timestamp</th>\n",
       "      <th>mileage</th>\n",
       "      <th>mileage@type</th>\n",
       "    </tr>\n",
       "  </thead>\n",
       "  <tbody>\n",
       "    <tr>\n",
       "      <th>0</th>\n",
       "      <td>mileage</td>\n",
       "      <td>229598673:18368212472.161</td>\n",
       "      <td>2021-09-16T10:18:48.169Z</td>\n",
       "      <td>124190</td>\n",
       "      <td>Edm.Int64</td>\n",
       "    </tr>\n",
       "    <tr>\n",
       "      <th>1</th>\n",
       "      <td>mileage</td>\n",
       "      <td>229598673:18369050830.456375</td>\n",
       "      <td>2021-09-06T17:26:09.665Z</td>\n",
       "      <td>124000</td>\n",
       "      <td>Edm.Double</td>\n",
       "    </tr>\n",
       "    <tr>\n",
       "      <th>2</th>\n",
       "      <td>mileage</td>\n",
       "      <td>229598673:18369119960.737133</td>\n",
       "      <td>2021-09-05T22:13:59.455Z</td>\n",
       "      <td>123681</td>\n",
       "      <td>Edm.Double</td>\n",
       "    </tr>\n",
       "    <tr>\n",
       "      <th>3</th>\n",
       "      <td>mileage</td>\n",
       "      <td>229598673:18369120254.508904</td>\n",
       "      <td>2021-09-05T22:09:05.744Z</td>\n",
       "      <td>123033</td>\n",
       "      <td>Edm.Double</td>\n",
       "    </tr>\n",
       "  </tbody>\n",
       "</table>\n",
       "</div>"
      ],
      "text/plain": [
       "  PartitionKey                        RowKey                 Timestamp  \\\n",
       "0      mileage     229598673:18368212472.161  2021-09-16T10:18:48.169Z   \n",
       "1      mileage  229598673:18369050830.456375  2021-09-06T17:26:09.665Z   \n",
       "2      mileage  229598673:18369119960.737133  2021-09-05T22:13:59.455Z   \n",
       "3      mileage  229598673:18369120254.508904  2021-09-05T22:09:05.744Z   \n",
       "\n",
       "   mileage mileage@type  \n",
       "0   124190    Edm.Int64  \n",
       "1   124000   Edm.Double  \n",
       "2   123681   Edm.Double  \n",
       "3   123033   Edm.Double  "
      ]
     },
     "execution_count": 5,
     "metadata": {},
     "output_type": "execute_result"
    }
   ],
   "source": [
    "df"
   ]
  },
  {
   "cell_type": "code",
   "execution_count": 10,
   "id": "0deca7e5-aa06-47f0-bf01-229a78a953d7",
   "metadata": {},
   "outputs": [
    {
     "name": "stdout",
     "output_type": "stream",
     "text": [
      "{'PartitionKey': 'mileage', 'RowKey': '229598673:18368212472.161', 'Timestamp': '2021-09-16T10:18:48.169Z', 'mileage': 124190, 'mileage@type': 'Edm.Int64'}\n",
      "{'PartitionKey': 'mileage', 'RowKey': '229598673:18369050830.456375', 'Timestamp': '2021-09-06T17:26:09.665Z', 'mileage': 124000, 'mileage@type': 'Edm.Double'}\n",
      "{'PartitionKey': 'mileage', 'RowKey': '229598673:18369119960.737133', 'Timestamp': '2021-09-05T22:13:59.455Z', 'mileage': 123681, 'mileage@type': 'Edm.Double'}\n",
      "{'PartitionKey': 'mileage', 'RowKey': '229598673:18369120254.508904', 'Timestamp': '2021-09-05T22:09:05.744Z', 'mileage': 123033, 'mileage@type': 'Edm.Double'}\n"
     ]
    }
   ],
   "source": [
    "for index, row in df.iterrows():\n",
    "    d = pd.Series.to_dict(row)\n",
    "    print(d)"
   ]
  },
  {
   "cell_type": "code",
   "execution_count": null,
   "id": "e9f2d1d1-d30c-48f9-9dbc-90d4f50b3da9",
   "metadata": {},
   "outputs": [],
   "source": []
  }
 ],
 "metadata": {
  "kernelspec": {
   "display_name": "Python 3 (ipykernel)",
   "language": "python",
   "name": "python3"
  },
  "language_info": {
   "codemirror_mode": {
    "name": "ipython",
    "version": 3
   },
   "file_extension": ".py",
   "mimetype": "text/x-python",
   "name": "python",
   "nbconvert_exporter": "python",
   "pygments_lexer": "ipython3",
   "version": "3.8.11"
  }
 },
 "nbformat": 4,
 "nbformat_minor": 5
}
